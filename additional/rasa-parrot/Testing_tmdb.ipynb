{
 "cells": [
  {
   "cell_type": "markdown",
   "metadata": {},
   "source": [
    "# Testing Tmdb"
   ]
  },
  {
   "cell_type": "code",
   "execution_count": 4,
   "metadata": {},
   "outputs": [],
   "source": [
    "from tmdbv3api import TMDb, Movie\n",
    "tmdb = TMDb()\n",
    "tmdb.api_key = '298a28c03057ddc572f46a9c31e9fb93'"
   ]
  },
  {
   "cell_type": "code",
   "execution_count": 5,
   "metadata": {},
   "outputs": [
    {
     "name": "stdout",
     "output_type": "stream",
     "text": [
      "Jack Reacher: Never Go Back\n",
      "Jack Reacher must uncover the truth behind a major government conspiracy in order to clear his name. On the run as a fugitive from the law, Reacher uncovers a potential secret from his past that could change his life forever.\n",
      "65.779\n"
     ]
    }
   ],
   "source": [
    "movie = Movie()\n",
    "m = movie.details(343611)\n",
    "\n",
    "print(m.title)\n",
    "print(m.overview)\n",
    "print(m.popularity)"
   ]
  },
  {
   "cell_type": "code",
   "execution_count": 7,
   "metadata": {},
   "outputs": [
    {
     "data": {
      "text/plain": [
       "dict_keys(['adult', 'backdrop_path', 'belongs_to_collection', 'budget', 'genres', 'homepage', 'id', 'imdb_id', 'original_language', 'original_title', 'overview', 'popularity', 'poster_path', 'production_companies', 'production_countries', 'release_date', 'revenue', 'runtime', 'spoken_languages', 'status', 'tagline', 'title', 'video', 'vote_average', 'vote_count', 'videos', 'trailers', 'images', 'casts', 'translations', 'keywords', 'release_dates'])"
      ]
     },
     "execution_count": 7,
     "metadata": {},
     "output_type": "execute_result"
    }
   ],
   "source": [
    "m.keys()"
   ]
  },
  {
   "cell_type": "code",
   "execution_count": 8,
   "metadata": {},
   "outputs": [
    {
     "data": {
      "text/plain": [
       "[{'id': 28, 'name': 'Action'}]"
      ]
     },
     "execution_count": 8,
     "metadata": {},
     "output_type": "execute_result"
    }
   ],
   "source": [
    "m['genres']"
   ]
  },
  {
   "cell_type": "markdown",
   "metadata": {},
   "source": [
    "## helpers"
   ]
  },
  {
   "cell_type": "code",
   "execution_count": 11,
   "metadata": {},
   "outputs": [
    {
     "name": "stdout",
     "output_type": "stream",
     "text": [
      "Action,\n",
      "Adventure,\n",
      "Animation,\n",
      "Comedy,\n",
      "Crime,\n",
      "Documentary,\n",
      "Drama,\n",
      "Family,\n",
      "Fantasy,\n",
      "History,\n",
      "Horror,\n",
      "Music,\n",
      "Mystery,\n",
      "Romance,\n",
      "Science\n",
      "Fiction,\n",
      "Thriller,\n",
      "TV\n",
      "Movie,\n",
      "War,\n",
      "Western\n"
     ]
    }
   ],
   "source": [
    "s = \"Action, Adventure, Animation, Comedy, Crime, Documentary, Drama, Family, Fantasy, History, Horror, Music, Mystery, Romance, Science Fiction, Thriller, TV Movie, War, Western\"\n",
    "\n",
    "splitted = s.split(\" \")\n",
    "for e in splitted:\n",
    "    print(e)\n"
   ]
  }
 ],
 "metadata": {
  "interpreter": {
   "hash": "ce728a70c8a97400f87ec0fadfbd351cdc86fb96c60c822ab6209bfa652925a3"
  },
  "kernelspec": {
   "display_name": "Python 3.8.12 64-bit ('rasa': conda)",
   "language": "python",
   "name": "python3"
  },
  "language_info": {
   "codemirror_mode": {
    "name": "ipython",
    "version": 3
   },
   "file_extension": ".py",
   "mimetype": "text/x-python",
   "name": "python",
   "nbconvert_exporter": "python",
   "pygments_lexer": "ipython3",
   "version": "3.8.12"
  },
  "orig_nbformat": 4
 },
 "nbformat": 4,
 "nbformat_minor": 2
}
